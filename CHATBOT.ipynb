{
 "cells": [
  {
   "cell_type": "code",
   "execution_count": 1,
   "metadata": {},
   "outputs": [],
   "source": [
    "import tkinter as tk\n",
    "from tkinter import simpledialog\n",
    "from time import sleep"
   ]
  },
  {
   "cell_type": "code",
   "execution_count": 2,
   "metadata": {},
   "outputs": [],
   "source": [
    "from openai import OpenAI\n",
    "api_key = \"***\"\n",
    "organization = '***'\n",
    "client = OpenAI(api_key=api_key,organization=organization,base_url='https://api.openai.com/v1/')"
   ]
  },
  {
   "cell_type": "code",
   "execution_count": 3,
   "metadata": {},
   "outputs": []
    }
   ],
   "source": [
    "assitant_id = '***'\n",
    "assistant = client.beta.assistants.retrieve(assistant_id=assitant_id)"
   ]
  },
  {
   "cell_type": "code",
   "execution_count": 4,
   "metadata": {},
   "outputs": [],
   "source": [
    "def write_log(txt):\n",
    "    with open('./chatbot_log.txt','a',encoding='gb18030') as f:\n",
    "        f.write(txt)"
   ]
  },
  {
   "cell_type": "code",
   "execution_count": 6,
   "metadata": {},
   "outputs": [],
   "source": [
    "import tkinter as tk\n",
    "from tkinter import ttk\n",
    "import threading\n",
    "from PIL import Image, ImageTk\n",
    "thread = client.beta.threads.create()\n",
    "# 获取GPT响应\n",
    "def get_gpt_response(prompt):\n",
    "    try:\n",
    "        message = client.beta.threads.messages.create(thread_id=thread.id, role='user',content=prompt)\n",
    "        run = client.beta.threads.runs.create(\n",
    "                thread_id=thread.id,\n",
    "                assistant_id=assistant.id\n",
    "                )\n",
    "        run_retrive = client.beta.threads.runs.retrieve(\n",
    "                thread_id=thread.id,\n",
    "                run_id=run.id)\n",
    "        while(run_retrive.status == 'in_progress'):\n",
    "            sleep(10)\n",
    "            run_retrive = client.beta.threads.runs.retrieve(thread_id=thread.id,run_id=run.id)\n",
    "        messages = client.beta.threads.messages.list(thread_id=thread.id)\n",
    "        output_message = messages.data[0].content[0].text.value\n",
    "        write_log(prompt+'/n'+output_message)\n",
    "        return output_message\n",
    "    except Exception as e:\n",
    "        return str(e)\n",
    "\n",
    "# 处理消息发送和GPT相应\n",
    "def handle_message():\n",
    "    message = entry.get()\n",
    "    if message:\n",
    "        display_message(\"User\", message, 'right', 'yellow')\n",
    "        entry.delete(0, tk.END)\n",
    "        \n",
    "        # 显示加载提示\n",
    "        display_message(\"GPT\", \"Please wait...\", 'left', 'light pink')\n",
    "\n",
    "        # 使用新线程获取GPT响应\n",
    "        threading.Thread(target=update_with_gpt_response, args=(message,)).start()\n",
    "\n",
    "def update_with_gpt_response(message):\n",
    "    response = get_gpt_response(message)\n",
    "    # 删除上一次的“请等待...”提示\n",
    "    chat_box_frame.winfo_children()[-1].destroy()\n",
    "    display_message(\"GPT\", response, 'left', 'light pink')\n",
    "\n",
    "def display_message(sender, message, side, bg_color):\n",
    "    message_frame = tk.Frame(chat_box_frame, bg=bg_color, padx=10, pady=5, bd=1, relief='solid')\n",
    "    message_label = tk.Label(message_frame, text=f\"{sender}: {message}\", bg=bg_color, font=(\"Times New Roman\", 10), wraplength=500, justify='left')\n",
    "    message_label.pack()\n",
    "    if side == 'left':\n",
    "        message_frame.pack(anchor='w', pady=10, padx=10)\n",
    "    else:\n",
    "        message_frame.pack(anchor='e', pady=10, padx=10)\n",
    "    chat_box_canvas.yview_moveto(1)\n",
    "\n",
    "\n",
    "root = tk.Tk()\n",
    "root.title(\"GPT 聊天对话框\")\n",
    "root.geometry(\"400x600\")\n",
    "\n",
    "# 创建聊天记录显示区\n",
    "chat_box_canvas = tk.Canvas(root, bg='light green')\n",
    "chat_box_frame = tk.Frame(chat_box_canvas, bg='light green')\n",
    "chat_box_scrollbar = ttk.Scrollbar(root, orient='vertical', command=chat_box_canvas.yview)\n",
    "chat_box_canvas.configure(yscrollcommand=chat_box_scrollbar.set)\n",
    "\n",
    "chat_box_scrollbar.pack(side='right', fill='y')\n",
    "chat_box_canvas.pack(side='left', fill='both', expand=True)\n",
    "chat_box_canvas.create_window((0, 0), window=chat_box_frame, anchor='nw')\n",
    "\n",
    "def on_frame_configure(event):\n",
    "    chat_box_canvas.configure(scrollregion=chat_box_canvas.bbox(\"all\"))\n",
    "\n",
    "chat_box_frame.bind(\"<Configure>\", on_frame_configure)\n",
    "\n",
    "# 创建输入框和发送按钮\n",
    "entry_frame = tk.Frame(root, bg='lightgray', bd=2)\n",
    "entry = tk.Entry(entry_frame, width=30, font=(\"Times New Roman\", 12))\n",
    "entry.pack(side='left', padx=5, pady=5)\n",
    "\n",
    "send_button = tk.Button(entry_frame, text=\"发送\", command=handle_message, font=(\"Times New Roman\", 12, 'bold'), bg='#4CAF50', fg='white')\n",
    "send_button.pack(side='left', padx=5, pady=5)\n",
    "\n",
    "entry_frame.pack(side='bottom', fill='x')\n",
    "\n",
    "root.mainloop()"
   ]
  },
  {
   "cell_type": "code",
   "execution_count": null,
   "metadata": {},
   "outputs": [],
   "source": []
  }
 ],
 "metadata": {
  "kernelspec": {
   "display_name": "Python 3",
   "language": "python",
   "name": "python3"
  },
  "language_info": {
   "codemirror_mode": {
    "name": "ipython",
    "version": 3
   },
   "file_extension": ".py",
   "mimetype": "text/x-python",
   "name": "python",
   "nbconvert_exporter": "python",
   "pygments_lexer": "ipython3",
   "version": "3.8.5"
  }
 },
 "nbformat": 4,
 "nbformat_minor": 4
}
