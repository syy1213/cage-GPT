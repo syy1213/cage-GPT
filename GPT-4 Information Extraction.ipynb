{
 "cells": [
  {
   "cell_type": "code",
   "execution_count": 1,
   "metadata": {},
   "outputs": [],
   "source": [
    "from sklearn.metrics.pairwise import cosine_similarity\n",
    "from time import sleep\n",
    "import glob,os\n",
    "import pandas as pd"
   ]
  },
  {
   "cell_type": "code",
   "execution_count": 2,
   "metadata": {},
   "outputs": [],
   "source": [
    "from openai import OpenAI\n",
    "api_key = \"***\"\n",
    "organization = '***'\n",
    "client = OpenAI(api_key=api_key,organization=organization,base_url='https://api.openai.com/v1/')"
   ]
  },
  {
   "cell_type": "code",
   "execution_count": null,
   "metadata": {},
   "outputs": [],
   "source": [
    "assistant = client.beta.assistants.create(\n",
    "  name=\"cage table organizer\",\n",
    "  instructions='Follow the instructions, extract the information related to organic molecular cages from the given text and organize them into a table',\n",
    "  model=\"gpt-4o\"\n",
    ")"
   ]
  },
  {
   "cell_type": "code",
   "execution_count": 22,
   "metadata": {},
   "outputs": [],
   "source": [
    "all_manual_table = r\"E:\\liuming\\cage-GPT\\all_manual_table.txt\"\n",
    "with open(all_manual_table,'r',encoding='gb18030') as f:\n",
    "    class1 = f.read()\n",
    "title_dict = {}\n",
    "for content in class1.split('\\n\\n'):\n",
    "    if '\\n' in content:\n",
    "        title = content.split('\\n')[0]\n",
    "        result = content.split('\\n')[1:]\n",
    "        new_result = ''\n",
    "        for item in result:\n",
    "            new_result += item\n",
    "            new_result += '\\n'\n",
    "        if title != '':\n",
    "            title = title.replace(':','')\n",
    "            title_dict[title] = new_result"
   ]
  },
  {
   "cell_type": "code",
   "execution_count": 8,
   "metadata": {},
   "outputs": [],
   "source": [
    "with open('./level-1-instruction.txt','r',encoding='gb18030') as f:\n",
    "    description = f.read()"
   ]
  },
  {
   "cell_type": "code",
   "execution_count": 6,
   "metadata": {},
   "outputs": [],
   "source": [
    "with open('./level-2and3-instruction.txt','r',encoding='gb18030') as f:\n",
    "    description = f.read()"
   ]
  },
  {
   "cell_type": "code",
   "execution_count": 7,
   "metadata": {},
   "outputs": [],
   "source": [
    "import numpy as np\n",
    "np.float = float\n",
    "np.int = int\n",
    "np.object = object\n",
    "np.bool = bool"
   ]
  },
  {
   "cell_type": "code",
   "execution_count": 26,
   "metadata": {},
   "outputs": [],
   "source": [
    "tables = []\n",
    "table_name = \"name of the organic molecular cage|topology|ccdc number|specific surface area|cage's synthesis procedure|reactant1|reactant1's synthesis procedure|reactant2|reactant2's synthesis procedure|\""
   ]
  },
  {
   "cell_type": "code",
   "execution_count": 25,
   "metadata": {},
   "outputs": [],
   "source": [
    "csv_files = glob.glob(csv_folder)\n",
    "for input_csv in csv_files:\n",
    "    key = input_csv.split('\\\\')[-1].replace('.csv','')\n",
    "    if key not in title_dict.keys():\n",
    "        print(key)"
   ]
  },
  {
   "cell_type": "code",
   "execution_count": 27,
   "metadata": {
    "scrolled": true
   },
   "outputs": [
   ],
   "source": [
    "csv_folder = r'E:\\liuming\\cage-GPT\\CSV_file\\level3\\*.csv'\n",
    "csv_files = glob.glob(csv_folder)\n",
    "for input_csv in csv_files:\n",
    "    thread = client.beta.threads.create()\n",
    "    key = input_csv.split('\\\\')[-1].replace('.csv','')\n",
    "    with open(input_csv,'r',encoding='gb18030',errors='ignore') as f:\n",
    "        f_content = f.read()\n",
    "    try:\n",
    "        message = client.beta.threads.messages.create(thread_id=thread.id, role='user',content=description+f_content)\n",
    "        GPT_people_answer = title_dict[key]\n",
    "        run = client.beta.threads.runs.create(\n",
    "        thread_id=thread.id,\n",
    "        assistant_id=assistant.id\n",
    "        )\n",
    "        sleep(30)\n",
    "        print(run.id)\n",
    "        run_retrive = client.beta.threads.runs.retrieve(\n",
    "        thread_id=thread.id,\n",
    "        run_id=run.id)\n",
    "        print(run_retrive.status)\n",
    "        while(run_retrive.status == 'in_progress'):\n",
    "            sleep(10)\n",
    "            run_retrive = client.beta.threads.runs.retrieve(thread_id=thread.id,run_id=run.id)\n",
    "        print(run_retrive.status)\n",
    "        messages = client.beta.threads.messages.list(thread_id=thread.id)\n",
    "        output_message = messages.data[0].content[0].text.value\n",
    "        i = output_message.find(\"|\")\n",
    "        j = output_message.rfind(\"|\")\n",
    "        gpt_answer = output_message[i:j+1].replace('--','').replace('|-|','')\n",
    "        sentence = 'standard answer:'+table_name+'\\n\\n'+GPT_people_answer+'GPT answer:'+gpt_answer\n",
    "        GPT_people_answer = table_name+'\\n\\n'+GPT_people_answer\n",
    "        tables.append([input_csv,GPT_people_answer,gpt_answer])\n",
    "        context_emb1 = client.embeddings.create(model=\"text-embedding-ada-002\",input=GPT_people_answer)\n",
    "        context_emb2 = client.embeddings.create(model=\"text-embedding-ada-002\",input=gpt_answer)\n",
    "        context_emb_data1 = context_emb1.data[0].embedding\n",
    "        context_emb_data2 = context_emb2.data[0].embedding\n",
    "        cos_similarity = cosine_similarity([context_emb_data1], [context_emb_data2])\n",
    "        print(input_csv,'finished','cos_similarity=',cos_similarity)\n",
    "    except Exception as e:\n",
    "        print(str(e))\n",
    "        print(key)"
   ]
  },
  {
   "cell_type": "code",
   "execution_count": 30,
   "metadata": {},
   "outputs": [],
   "source": [
    "import pandas as pd\n",
    "df_gpt_manual = pd.DataFrame(tables)\n",
    "GPT4o_answer = r'E:\\liuming\\cage-GPT\\CSV_file\\GPT4o_answer_level3.xlsx'\n",
    "df_gpt_manual.to_excel(GPT4o_answer)"
   ]
  }
 ],
 "metadata": {
  "kernelspec": {
   "display_name": "py3.9",
   "language": "python",
   "name": "py3.9"
  },
  "language_info": {
   "codemirror_mode": {
    "name": "ipython",
    "version": 3
   },
   "file_extension": ".py",
   "mimetype": "text/x-python",
   "name": "python",
   "nbconvert_exporter": "python",
   "pygments_lexer": "ipython3",
   "version": "3.9.19"
  }
 },
 "nbformat": 4,
 "nbformat_minor": 4
}
