{
 "cells": [
  {
   "cell_type": "code",
   "execution_count": 1,
   "metadata": {},
   "outputs": [],
   "source": [
    "from sklearn.metrics.pairwise import cosine_similarity\n",
    "from time import sleep\n",
    "import glob,os\n",
    "import pandas as pd"
   ]
  },
  {
   "cell_type": "code",
   "execution_count": 2,
   "metadata": {},
   "outputs": [],
   "source": [
    "from openai import OpenAI\n",
    "api_key = \"***\"\n",
    "organization = '***'\n",
    "client = OpenAI(api_key=api_key,organization=organization,base_url='https://api.openai.com/v1/')"
   ]
  },
  {
   "cell_type": "code",
   "execution_count": null,
   "metadata": {},
   "outputs": [],
   "source": [
    "assistant = client.beta.assistants.create(\n",
    "  name=\"cage table organizer\",\n",
    "  instructions='Follow the instructions, extract the information related to organic molecular cages from the given text and organize them into a table',\n",
    "  model=\"gpt-4o\"\n",
    ")"
   ]
  },
  {
   "cell_type": "code",
   "execution_count": 22,
   "metadata": {},
   "outputs": [],
   "source": [
    "all_manual_table = r\"E:\\liuming\\cage-GPT\\all_manual_table.txt\"\n",
    "with open(all_manual_table,'r',encoding='gb18030') as f:\n",
    "    class1 = f.read()\n",
    "title_dict = {}\n",
    "for content in class1.split('\\n\\n'):\n",
    "    if '\\n' in content:\n",
    "        title = content.split('\\n')[0]\n",
    "        result = content.split('\\n')[1:]\n",
    "        new_result = ''\n",
    "        for item in result:\n",
    "            new_result += item\n",
    "            new_result += '\\n'\n",
    "        if title != '':\n",
    "            title = title.replace(':','')\n",
    "            title_dict[title] = new_result"
   ]
  },
  {
   "cell_type": "code",
   "execution_count": 8,
   "metadata": {},
   "outputs": [],
   "source": [
    "with open('./level-1-instruction.txt','r',encoding='gb18030') as f:\n",
    "    description = f.read()"
   ]
  },
  {
   "cell_type": "code",
   "execution_count": 6,
   "metadata": {},
   "outputs": [],
   "source": [
    "with open('./level-2and3-instruction.txt','r',encoding='gb18030') as f:\n",
    "    description = f.read()"
   ]
  },
  {
   "cell_type": "code",
   "execution_count": 7,
   "metadata": {},
   "outputs": [],
   "source": [
    "import numpy as np\n",
    "np.float = float\n",
    "np.int = int\n",
    "np.object = object\n",
    "np.bool = bool"
   ]
  },
  {
   "cell_type": "code",
   "execution_count": 26,
   "metadata": {},
   "outputs": [],
   "source": [
    "tables = []\n",
    "table_name = \"name of the organic molecular cage|topology|ccdc number|specific surface area|cage's synthesis procedure|reactant1|reactant1's synthesis procedure|reactant2|reactant2's synthesis procedure|\""
   ]
  },
  {
   "cell_type": "code",
   "execution_count": 25,
   "metadata": {},
   "outputs": [],
   "source": [
    "csv_files = glob.glob(csv_folder)\n",
    "for input_csv in csv_files:\n",
    "    key = input_csv.split('\\\\')[-1].replace('.csv','')\n",
    "    if key not in title_dict.keys():\n",
    "        print(key)"
   ]
  },
  {
   "cell_type": "code",
   "execution_count": 27,
   "metadata": {
    "scrolled": true
   },
   "outputs": [
    {
     "name": "stdout",
     "output_type": "stream",
     "text": [
      "run_orA2jgoSfVJf9NGRYDJOp2g9\n",
      "in_progress\n",
      "completed\n",
      "E:\\liuming\\cage-GPT\\CSV_file\\level3\\2009----Water-soluble octahedral polyammonium nanocapsules synthesisand encapsulation studies.csv finished cos_similarity= [[0.94545304]]\n",
      "run_4uFVpKBc9eRIKeqkwb9RY5fv\n",
      "completed\n",
      "completed\n",
      "E:\\liuming\\cage-GPT\\CSV_file\\level3\\2011---Angew. Chem. Int. Ed.--- -CC7-CC8.csv finished cos_similarity= [[0.97295389]]\n",
      "run_RMcBzP8RpWGPJ8nI0AuOCqra\n",
      "in_progress\n",
      "completed\n",
      "E:\\liuming\\cage-GPT\\CSV_file\\level3\\2011---Multicomponent Assembly of Cavitand-Based PolyacylhydrazoneNanocapsules.csv finished cos_similarity= [[0.95774487]]\n",
      "run_3YbUxfrXE0cHiVL3s7OzLGPL\n",
      "in_progress\n",
      "completed\n",
      "E:\\liuming\\cage-GPT\\CSV_file\\level3\\2011-naseer-et-al-synthesis-and-functionalization-of-heteroatom-bridged-bicyclocalixaromatics-large-molecular.csv finished cos_similarity= [[0.95341601]]\n",
      "run_DexMXqv4RWwGBA1EKOHgA5NA\n",
      "completed\n",
      "completed\n",
      "E:\\liuming\\cage-GPT\\CSV_file\\level3\\2013----Chem Comm---Direct gravimetric sensing.csv finished cos_similarity= [[0.97652353]]\n",
      "run_Ye7pby7ZvjXdpZvKnqVjA3Wo\n",
      "completed\n",
      "completed\n",
      "E:\\liuming\\cage-GPT\\CSV_file\\level3\\2014---JACS ----FT-RCC3---Acid- and Base-Stable Porous Organic Cages.csv finished cos_similarity= [[0.95875383]]\n",
      "run_hZ3LauHDiqEUeehgDSmAnDtl\n",
      "completed\n",
      "completed\n",
      "E:\\liuming\\cage-GPT\\CSV_file\\level3\\2014-Eur J Org Chem-Naseer - Construction and Multiple Exterior Surface Functionalization of Giant Molecular Cages.csv finished cos_similarity= [[0.97990821]]\n",
      "run_MNZFFZWbYKp3Pd458kRe6VGI\n",
      "in_progress\n",
      "completed\n",
      "E:\\liuming\\cage-GPT\\CSV_file\\level3\\2016---Jacs.csv finished cos_similarity= [[0.96525487]]\n",
      "run_bItkY1JWTv0AiU0Kh3yWXfq7\n",
      "completed\n",
      "completed\n",
      "E:\\liuming\\cage-GPT\\CSV_file\\level3\\2017---Chem Comm---mastalerz.csv finished cos_similarity= [[0.98054313]]\n",
      "run_kQmKHYW7ltTDTeoYB9gfvY5h\n",
      "in_progress\n",
      "completed\n",
      "E:\\liuming\\cage-GPT\\CSV_file\\level3\\2018-1-s2.0-S1319610317301370-main.csv finished cos_similarity= [[0.95167298]]\n",
      "run_yc460DGJbFvJ9IXIlbWeYnor\n",
      "in_progress\n",
      "completed\n",
      "E:\\liuming\\cage-GPT\\CSV_file\\level3\\2019---Angewandte Chemie---Bhat.csv finished cos_similarity= [[0.95785111]]\n",
      "run_3Hdx696E1zVpMcvvKn9EapMc\n",
      "completed\n",
      "completed\n",
      "E:\\liuming\\cage-GPT\\CSV_file\\level3\\2021-Zhang-Emissive oxidase-like nanozyme.csv finished cos_similarity= [[0.96900366]]\n",
      "run_lzd2GkGeEhngmQy0f3NUyjiG\n",
      "completed\n",
      "completed\n",
      "Error code: 400 - {'error': {'message': \"This model's maximum context length is 8192 tokens, however you requested 11201 tokens (11201 in your prompt; 0 for the completion). Please reduce your prompt; or completion length.\", 'type': 'invalid_request_error', 'param': None, 'code': None}}\n",
      "2022-zhou-et-al-inherently-chiral-cages-via-hierarchical-desymmetrization\n",
      "run_tehKDfLnSNZjjgIurR6tE67T\n",
      "in_progress\n",
      "completed\n",
      "E:\\liuming\\cage-GPT\\CSV_file\\level3\\Angew Chem Int Ed-2018-Schick-Transformation of Imine Cages into Hydrocarbon Cages.csv finished cos_similarity= [[0.97340167]]\n",
      "run_fXNCRy6KRe1KvfaMt6EWsXri\n",
      "completed\n",
      "completed\n",
      "E:\\liuming\\cage-GPT\\CSV_file\\level3\\Angew Chem Int Ed-2021-Martinez-Ahumada-SO2 Capture Using Porous Organic Cages.csv finished cos_similarity= [[0.9710871]]\n",
      "run_KRDVJD6BNyLw928KbrCc9UUm\n",
      "in_progress\n",
      "completed\n",
      "E:\\liuming\\cage-GPT\\CSV_file\\level3\\Angew Chem Int Ed-2023-Qin-Construction of Covalent Organic Cages with Aggregation-Induced Emission Characteristics.csv finished cos_similarity= [[0.94773673]]\n",
      "run_aH1ahf7GjOv2iqns1MlbVVe6\n",
      "completed\n",
      "completed\n",
      "E:\\liuming\\cage-GPT\\CSV_file\\level3\\c4cc06225f.csv finished cos_similarity= [[0.9606338]]\n",
      "run_h3JSD1on10xZMYa8KNTZV9iQ\n",
      "completed\n",
      "completed\n",
      "E:\\liuming\\cage-GPT\\CSV_file\\level3\\Chemistry A European J-2020-Hahsler-A Giant  8 12  Boronic Ester Cage with 48 Terminal Alkene Units in the Periphery.csv finished cos_similarity= [[0.97402357]]\n",
      "run_EFCDhDpl1D2ktR3ieDl458ZP\n",
      "completed\n",
      "completed\n",
      "E:\\liuming\\cage-GPT\\CSV_file\\level3\\Chemistry A European J-2020-Mondal-Nucleation of Tiny Silver Nanoparticles by Using a Tetrafacial Organic Molecular.csv finished cos_similarity= [[0.95450712]]\n",
      "run_S0r2GkaaxUrHzHaDlaPQ4Y3T\n",
      "completed\n",
      "completed\n",
      "E:\\liuming\\cage-GPT\\CSV_file\\level3\\Chemistry A European J-2022-Bhandari-Post-Synthesis Conversion of an Unstable Imine Cage to a Stable Cage with Amide.csv finished cos_similarity= [[0.94981318]]\n",
      "run_DOaBkfMV9n8AOS01tjYzZhiU\n",
      "completed\n",
      "completed\n",
      "E:\\liuming\\cage-GPT\\CSV_file\\level3\\mondal-et-al-2017-reversible-multistimuli-switching-of-a-spiropyran-functionalized-organic-cage-in-solid-and-solution.csv finished cos_similarity= [[0.95875937]]\n",
      "run_mnplkW90NUofDHjSg2swCt7s\n",
      "completed\n",
      "completed\n",
      "E:\\liuming\\cage-GPT\\CSV_file\\level3\\mondal-mukherjee-2018-cage-encapsulated-gold-nanoparticles-as-heterogeneous-photocatalyst-for-facile-and-selective.csv finished cos_similarity= [[0.93555036]]\n",
      "run_V5uAFjSW3o6gi5e8lrDrNgcq\n",
      "in_progress\n",
      "completed\n",
      "E:\\liuming\\cage-GPT\\CSV_file\\level3\\s41467-024-44922-y.csv finished cos_similarity= [[0.98306465]]\n",
      "run_MZGDa0nJFGpsUm5iUuAZJqub\n",
      "completed\n",
      "completed\n",
      "E:\\liuming\\cage-GPT\\CSV_file\\level3\\science-aax7427.csv finished cos_similarity= [[0.987623]]\n"
     ]
    }
   ],
   "source": [
    "csv_folder = r'E:\\liuming\\cage-GPT\\CSV_file\\level3\\*.csv'\n",
    "csv_files = glob.glob(csv_folder)\n",
    "for input_csv in csv_files:\n",
    "    thread = client.beta.threads.create()\n",
    "    key = input_csv.split('\\\\')[-1].replace('.csv','')\n",
    "    with open(input_csv,'r',encoding='gb18030',errors='ignore') as f:\n",
    "        f_content = f.read()\n",
    "    try:\n",
    "        message = client.beta.threads.messages.create(thread_id=thread.id, role='user',content=description+f_content)\n",
    "        GPT_people_answer = title_dict[key]\n",
    "        run = client.beta.threads.runs.create(\n",
    "        thread_id=thread.id,\n",
    "        assistant_id=assistant.id\n",
    "        )\n",
    "        sleep(30)\n",
    "        print(run.id)\n",
    "        run_retrive = client.beta.threads.runs.retrieve(\n",
    "        thread_id=thread.id,\n",
    "        run_id=run.id)\n",
    "        print(run_retrive.status)\n",
    "        while(run_retrive.status == 'in_progress'):\n",
    "            sleep(10)\n",
    "            run_retrive = client.beta.threads.runs.retrieve(thread_id=thread.id,run_id=run.id)\n",
    "        print(run_retrive.status)\n",
    "        messages = client.beta.threads.messages.list(thread_id=thread.id)\n",
    "        output_message = messages.data[0].content[0].text.value\n",
    "        i = output_message.find(\"|\")\n",
    "        j = output_message.rfind(\"|\")\n",
    "        gpt_answer = output_message[i:j+1].replace('--','').replace('|-|','')\n",
    "        sentence = 'standard answer:'+table_name+'\\n\\n'+GPT_people_answer+'GPT answer:'+gpt_answer\n",
    "        GPT_people_answer = table_name+'\\n\\n'+GPT_people_answer\n",
    "        tables.append([input_csv,GPT_people_answer,gpt_answer])\n",
    "        context_emb1 = client.embeddings.create(model=\"text-embedding-ada-002\",input=GPT_people_answer)\n",
    "        context_emb2 = client.embeddings.create(model=\"text-embedding-ada-002\",input=gpt_answer)\n",
    "        context_emb_data1 = context_emb1.data[0].embedding\n",
    "        context_emb_data2 = context_emb2.data[0].embedding\n",
    "        cos_similarity = cosine_similarity([context_emb_data1], [context_emb_data2])\n",
    "        print(input_csv,'finished','cos_similarity=',cos_similarity)\n",
    "    except Exception as e:\n",
    "        print(str(e))\n",
    "        print(key)"
   ]
  },
  {
   "cell_type": "code",
   "execution_count": 30,
   "metadata": {},
   "outputs": [],
   "source": [
    "import pandas as pd\n",
    "df_gpt_manual = pd.DataFrame(tables)\n",
    "GPT4o_answer = r'E:\\liuming\\cage-GPT\\CSV_file\\GPT4o_answer_level3.xlsx'\n",
    "df_gpt_manual.to_excel(GPT4o_answer)"
   ]
  }
 ],
 "metadata": {
  "kernelspec": {
   "display_name": "py3.9",
   "language": "python",
   "name": "py3.9"
  },
  "language_info": {
   "codemirror_mode": {
    "name": "ipython",
    "version": 3
   },
   "file_extension": ".py",
   "mimetype": "text/x-python",
   "name": "python",
   "nbconvert_exporter": "python",
   "pygments_lexer": "ipython3",
   "version": "3.9.19"
  }
 },
 "nbformat": 4,
 "nbformat_minor": 4
}
